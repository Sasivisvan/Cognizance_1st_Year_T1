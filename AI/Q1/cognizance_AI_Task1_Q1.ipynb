{
  "nbformat": 4,
  "nbformat_minor": 0,
  "metadata": {
    "colab": {
      "provenance": []
    },
    "kernelspec": {
      "name": "python3",
      "display_name": "Python 3"
    },
    "language_info": {
      "name": "python"
    }
  },
  "cells": [
    {
      "cell_type": "code",
      "source": [
        "# Below as comments in the next cell results are explained\n",
        "# Import necessary libraries\n",
        "from sklearn.datasets import load_diabetes\n",
        "import pandas as pd\n",
        "from sklearn.model_selection import train_test_split, cross_val_score\n",
        "from sklearn.preprocessing import StandardScaler\n",
        "from sklearn.linear_model import LinearRegression, Ridge\n",
        "from sklearn.ensemble import RandomForestRegressor\n",
        "from sklearn.metrics import mean_squared_error\n",
        "import numpy as np\n",
        "\n",
        "\n",
        "# Load the Dataset and Convert to DataFrame\n",
        "data = load_diabetes()\n",
        "df = pd.DataFrame(data.data, columns=data.feature_names)\n",
        "df['progression'] = data.target\n",
        "df.to_csv(\"diabetes.csv\", index=False)  # Save to CSV for completeness\n",
        "\n",
        "# Preprocess the Data\n",
        "# Load the data from CSV\n",
        "df = pd.read_csv(\"diabetes.csv\")\n",
        "\n",
        "# Check for missing values\n",
        "print(\"Missing values in dataset:\\n\", df.isnull().sum())\n",
        "\n",
        "# Standardize the features\n",
        "X = df.drop('progression', axis=1)  # Features\n",
        "y = df['progression']  # Target variable\n",
        "\n",
        "scaler = StandardScaler()\n",
        "X_scaled = scaler.fit_transform(X)\n",
        "\n",
        "# Model Selection\n",
        "# Initialize models\n",
        "models = {\n",
        "    \"Linear Regression\": LinearRegression(),\n",
        "    \"Ridge Regression\": Ridge(alpha=1.0),\n",
        "    \"Random Forest Regressor\": RandomForestRegressor(n_estimators=100, random_state=5)\n",
        "}\n",
        "\n",
        "# Train and Evaluate Each Model on the Test Set\n",
        "# Split data into training and testing sets\n",
        "X_train, X_test, y_train, y_test = train_test_split(X_scaled, y, test_size=0.2, random_state=5)\n",
        "\n",
        "# Train and evaluate each model\n",
        "test_results = {}\n",
        "\n",
        "for name, model in models.items():\n",
        "    # Train the model on the training set\n",
        "    model.fit(X_train, y_train)\n",
        "    # Predict on the test set\n",
        "    y_pred = model.predict(X_test)\n",
        "    # Evaluate Mean Squared Error\n",
        "    test_mse = mean_squared_error(y_test, y_pred)\n",
        "    test_results[name] = test_mse\n",
        "    print(f\"{name} - Test set Mean Squared Error: {test_mse}\")\n",
        "\n",
        "# Select the best model based on test set performance\n",
        "best_model_name = min(test_results, key=test_results.get)\n",
        "best_model = models[best_model_name]\n",
        "print(f\"\\nBest model based on test set: {best_model_name}\")\n"
      ],
      "metadata": {
        "colab": {
          "base_uri": "https://localhost:8080/"
        },
        "id": "uDhQfTChSLx5",
        "outputId": "d4902d93-d723-4d83-fb88-53af5035160e"
      },
      "execution_count": 2,
      "outputs": [
        {
          "output_type": "stream",
          "name": "stdout",
          "text": [
            "Missing values in dataset:\n",
            " age            0\n",
            "sex            0\n",
            "bmi            0\n",
            "bp             0\n",
            "s1             0\n",
            "s2             0\n",
            "s3             0\n",
            "s4             0\n",
            "s5             0\n",
            "s6             0\n",
            "progression    0\n",
            "dtype: int64\n",
            "Linear Regression - Test set Mean Squared Error: 2981.5873043126116\n",
            "Ridge Regression - Test set Mean Squared Error: 2980.976193653905\n",
            "Random Forest Regressor - Test set Mean Squared Error: 2991.539735955056\n",
            "\n",
            "Best model based on test set: Ridge Regression\n"
          ]
        }
      ]
    },
    {
      "cell_type": "code",
      "source": [
        "# Missing values in dataset:\n",
        "#  age            0\n",
        "# sex            0\n",
        "# bmi            0\n",
        "# bp             0\n",
        "# s1             0\n",
        "# s2             0\n",
        "# s3             0\n",
        "# s4             0\n",
        "# s5             0\n",
        "# s6             0\n",
        "# progression    0\n",
        "# dtype: int64\n",
        "# As everything is 0 means no emepty or incomplete data field\n",
        "\n",
        "# Performance of each model as Mean Squared Error meaning sum of (predicted value - actual value)^2 divided by no of times predicted:\n",
        "# Linear Regression - Test set Mean Squared Error: 2981.5873043126107\n",
        "# Ridge Regression - Test set Mean Squared Error: 2980.9761936539035\n",
        "# Random Forest Regressor - Test set Mean Squared Error: 2991.539735955056\n",
        "\n",
        "# Best model based on test set: Ridge Regression\n",
        "\n",
        "# The best model to use is (based on this test) is Ridge Regression"
      ],
      "metadata": {
        "id": "Syrnm1QszGsn"
      },
      "execution_count": null,
      "outputs": []
    }
  ]
}