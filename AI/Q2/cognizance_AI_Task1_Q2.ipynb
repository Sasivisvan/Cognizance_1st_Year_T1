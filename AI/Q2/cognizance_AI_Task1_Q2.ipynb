{
  "nbformat": 4,
  "nbformat_minor": 0,
  "metadata": {
    "colab": {
      "provenance": []
    },
    "kernelspec": {
      "name": "python3",
      "display_name": "Python 3"
    },
    "language_info": {
      "name": "python"
    }
  },
  "cells": [
    {
      "cell_type": "code",
      "source": [
        "# Below as comments in the next cell results are explained\n",
        "# Import necessary libraries\n",
        "import pandas as pd\n",
        "from sklearn.model_selection import train_test_split, cross_val_score\n",
        "from sklearn.preprocessing import StandardScaler\n",
        "from sklearn.linear_model import LinearRegression, Ridge\n",
        "from sklearn.ensemble import RandomForestRegressor\n",
        "from sklearn.metrics import mean_squared_error\n",
        "import numpy as np\n",
        "from sklearn.datasets import load_iris\n",
        "import pandas as pd\n",
        "\n",
        "data = load_iris()\n",
        "df = pd.DataFrame(data.data, columns=data.feature_names)\n",
        "df['species'] = data.target\n",
        "df.to_csv(\"iris.csv\", index=False)\n",
        "\n",
        "# Preprocess the Data\n",
        "# Load the data from CSV\n",
        "df = pd.read_csv(\"iris.csv\")\n",
        "\n",
        "# Check for missing values\n",
        "print(\"Missing values in dataset:\\n\", df.isnull().sum())\n",
        "\n",
        "# Standardize the features\n",
        "X = df.drop('species', axis=1)  # Features\n",
        "y = df['species']  # Target variable\n",
        "\n",
        "scaler = StandardScaler()\n",
        "X_scaled = scaler.fit_transform(X)\n",
        "\n",
        "# Model Selection\n",
        "# Initialize models\n",
        "models = {\n",
        "    \"Linear Regression\": LinearRegression(),\n",
        "    \"Ridge Regression\": Ridge(alpha=1.0),\n",
        "    \"Random Forest Regressor\": RandomForestRegressor(n_estimators=100, random_state=5)\n",
        "}\n",
        "\n",
        "# Train and Evaluate Each Model on the Test Set\n",
        "# Split data into training and testing sets\n",
        "X_train, X_test, y_train, y_test = train_test_split(X_scaled, y, test_size=0.2, random_state=5)\n",
        "\n",
        "# Train and evaluate each model\n",
        "test_results = {}\n",
        "\n",
        "for name, model in models.items():\n",
        "    # Train the model on the training set\n",
        "    model.fit(X_train, y_train)\n",
        "    # Predict on the test set\n",
        "    y_pred = model.predict(X_test)\n",
        "    # Evaluate Mean Squared Error\n",
        "    test_mse = mean_squared_error(y_test, y_pred)\n",
        "    test_results[name] = test_mse\n",
        "    print(f\"{name} - Test set Mean Squared Error: {test_mse:.4f}\")\n",
        "\n",
        "\n",
        "# Select the best model based on test set performance\n",
        "best_model_name = min(test_results, key=test_results.get)\n",
        "best_model = models[best_model_name]\n",
        "print(f\"\\nBest model based on test set: {best_model_name}\")"
      ],
      "metadata": {
        "colab": {
          "base_uri": "https://localhost:8080/"
        },
        "id": "zp4syyFUwAfQ",
        "outputId": "41d3a7c7-cbce-4a70-bb89-3eb4fdad18ec"
      },
      "execution_count": 3,
      "outputs": [
        {
          "output_type": "stream",
          "name": "stdout",
          "text": [
            "Missing values in dataset:\n",
            " sepal length (cm)    0\n",
            "sepal width (cm)     0\n",
            "petal length (cm)    0\n",
            "petal width (cm)     0\n",
            "species              0\n",
            "dtype: int64\n",
            "Linear Regression - Test set Mean Squared Error: 0.0723\n",
            "Ridge Regression - Test set Mean Squared Error: 0.0696\n",
            "Random Forest Regressor - Test set Mean Squared Error: 0.0542\n",
            "\n",
            "Best model based on test set: Random Forest Regressor\n"
          ]
        }
      ]
    },
    {
      "cell_type": "code",
      "source": [
        "# Missing values in dataset:\n",
        "# sepal length (cm)    0\n",
        "# sepal width (cm)     0\n",
        "# petal length (cm)    0\n",
        "# petal width (cm)     0\n",
        "# species              0\n",
        "# dtype: int64\n",
        "# As everything is 0 means no emepty or incomplete data field\n",
        "\n",
        "# Performance of each model as Mean Squared Error meaning sum of (predicted value - actual value)^2 divided by no of times predicted:\n",
        "# Linear Regression - Test set Mean Squared Error: 0.0723\n",
        "# Ridge Regression - Test set Mean Squared Error: 0.0696\n",
        "# Random Forest Regressor - Test set Mean Squared Error: 0.0542\n",
        "\n",
        "# Best model based on test set: Random Forest Regressor\n",
        "\n",
        "# The best model to use is (based on this test) is Random Forest Regressor"
      ],
      "metadata": {
        "id": "1OJofxRuzqOk"
      },
      "execution_count": null,
      "outputs": []
    }
  ]
}